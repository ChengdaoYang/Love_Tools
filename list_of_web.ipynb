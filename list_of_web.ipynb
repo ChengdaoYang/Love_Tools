{
 "cells": [
  {
   "cell_type": "code",
   "execution_count": 2,
   "metadata": {},
   "outputs": [],
   "source": [
    "import requests\n",
    "import pandas as pd\n",
    "import numpy as np\n",
    "from bs4 import BeautifulSoup\n",
    "import re"
   ]
  },
  {
   "cell_type": "code",
   "execution_count": 3,
   "metadata": {},
   "outputs": [],
   "source": [
    "url = 'https://blog.feedspot.com/business_news_websites'\n",
    "respones = requests.get(url)"
   ]
  },
  {
   "cell_type": "code",
   "execution_count": 6,
   "metadata": {
    "scrolled": true
   },
   "outputs": [],
   "source": [
    "Soup = BeautifulSoup(respones.content.decode('utf-8'))\n",
    "names_tags = Soup.findAll('a',attrs={'class':'tlink'})\n",
    "links_tags = Soup.findAll('a',attrs={'class':\"ext\"})\n",
    "Alice = []\n",
    "Duan =[]\n",
    "Yang = []\n",
    "Sun = []\n",
    "for i,name in enumerate(names_tags): \n",
    "    if i%4 == 3:\n",
    "        name = re.findall(r'[a-zA-Z0-9 ]+|',name.get_text())[0]\n",
    "        Alice.append((i, name, links_tags[0].get('href')))\n",
    "        pass\n",
    "    if i%4 == 2:\n",
    "        name = re.findall(r'[a-zA-Z0-9 ]+|',name.get_text())[0]\n",
    "        Duan.append((i, name, links_tags[0].get('href')))\n",
    "        pass\n",
    "    if i%4 == 0:\n",
    "        name = re.findall(r'[a-zA-Z0-9 ]+|',name.get_text())[0]\n",
    "        Yang.append((i, name, links_tags[0].get('href')))\n",
    "        pass\n",
    "    if i%4 == 1:\n",
    "        name = re.findall(r'[a-zA-Z0-9 ]+|',name.get_text())[0]\n",
    "        Sun.append((i, name, links_tags[0].get('href')))\n",
    "        pass\n",
    "\n"
   ]
  },
  {
   "cell_type": "code",
   "execution_count": 7,
   "metadata": {},
   "outputs": [
    {
     "data": {
      "text/plain": [
       "[(3, 'Financial Times', 'http://money.cnn.com/'),\n",
       " (7, 'Morning star ', 'http://money.cnn.com/'),\n",
       " (11, 'Reuters India ', 'http://money.cnn.com/'),\n",
       " (15, 'Business Line', 'http://money.cnn.com/'),\n",
       " (19, 'BloombergQuint ', 'http://money.cnn.com/'),\n",
       " (23, 'Business Daily', 'http://money.cnn.com/'),\n",
       " (27, 'Marijuana Business Daily ', 'http://money.cnn.com/'),\n",
       " (31, 'Birmingham Post ', 'http://money.cnn.com/'),\n",
       " (35, 'Talking Biz News ', 'http://money.cnn.com/'),\n",
       " (39, ' The Budapest Business Journal ', 'http://money.cnn.com/'),\n",
       " (43, 'IoT Business News', 'http://money.cnn.com/')]"
      ]
     },
     "execution_count": 7,
     "metadata": {},
     "output_type": "execute_result"
    }
   ],
   "source": [
    "Alice"
   ]
  },
  {
   "cell_type": "code",
   "execution_count": 8,
   "metadata": {},
   "outputs": [
    {
     "data": {
      "text/plain": [
       "[(2, 'Fortune ', 'http://money.cnn.com/'),\n",
       " (6, ' Seeking Alpha', 'http://money.cnn.com/'),\n",
       " (10, 'The Economic Times', 'http://money.cnn.com/'),\n",
       " (14, 'Business Standard', 'http://money.cnn.com/'),\n",
       " (18, 'Financial Post ', 'http://money.cnn.com/'),\n",
       " (22, 'Chicago Business News', 'http://money.cnn.com/'),\n",
       " (26, 'BusinessDay ', 'http://money.cnn.com/'),\n",
       " (30, 'International Business Times AU', 'http://money.cnn.com/'),\n",
       " (34, 'Modest Money', 'http://money.cnn.com/'),\n",
       " (38, 'Jewish Business News', 'http://money.cnn.com/'),\n",
       " (42, 'Nigeria Business News', 'http://money.cnn.com/')]"
      ]
     },
     "execution_count": 8,
     "metadata": {},
     "output_type": "execute_result"
    }
   ],
   "source": [
    "Duan"
   ]
  },
  {
   "cell_type": "code",
   "execution_count": 9,
   "metadata": {},
   "outputs": [
    {
     "data": {
      "text/plain": [
       "[(0, 'CNN Money', 'http://money.cnn.com/'),\n",
       " (4, 'Yahoo ', 'http://money.cnn.com/'),\n",
       " (8, 'Music Business Worldwide', 'http://money.cnn.com/'),\n",
       " (12, 'LiveMint', 'http://money.cnn.com/'),\n",
       " (16, 'Business Today ', 'http://money.cnn.com/'),\n",
       " (20, 'Moneyweb ', 'http://money.cnn.com/'),\n",
       " (24, 'Zee Business', 'http://money.cnn.com/'),\n",
       " (28, 'BNamericas', 'http://money.cnn.com/'),\n",
       " (32, 'Baystreet', 'http://money.cnn.com/'),\n",
       " (36, 'Business Matters ', 'http://money.cnn.com/'),\n",
       " (40, 'Long Island Business News', 'http://money.cnn.com/'),\n",
       " (44, 'Thailand Business News', 'http://money.cnn.com/')]"
      ]
     },
     "execution_count": 9,
     "metadata": {},
     "output_type": "execute_result"
    }
   ],
   "source": [
    "Yang"
   ]
  },
  {
   "cell_type": "code",
   "execution_count": 10,
   "metadata": {},
   "outputs": [
    {
     "data": {
      "text/plain": [
       "[(1, 'CNBC ', 'http://money.cnn.com/'),\n",
       " (5, 'Investing', 'http://money.cnn.com/'),\n",
       " (9, 'Food Business News', 'http://money.cnn.com/'),\n",
       " (13, 'The Financial Express', 'http://money.cnn.com/'),\n",
       " (17, 'Globes English ', 'http://money.cnn.com/'),\n",
       " (21, 'Arabian Business ', 'http://money.cnn.com/'),\n",
       " (25, ' Canadian Business ', 'http://money.cnn.com/'),\n",
       " (29, 'Business World', 'http://money.cnn.com/'),\n",
       " (33, 'Business News', 'http://money.cnn.com/'),\n",
       " (37, 'Business Travel News', 'http://money.cnn.com/'),\n",
       " (41, 'Business News Philippines', 'http://money.cnn.com/'),\n",
       " (45, 'SmallBizTalks', 'http://money.cnn.com/')]"
      ]
     },
     "execution_count": 10,
     "metadata": {},
     "output_type": "execute_result"
    }
   ],
   "source": [
    "Sun"
   ]
  },
  {
   "cell_type": "code",
   "execution_count": null,
   "metadata": {},
   "outputs": [],
   "source": []
  }
 ],
 "metadata": {
  "kernelspec": {
   "display_name": "Python 3",
   "language": "python",
   "name": "python3"
  },
  "language_info": {
   "codemirror_mode": {
    "name": "ipython",
    "version": 3
   },
   "file_extension": ".py",
   "mimetype": "text/x-python",
   "name": "python",
   "nbconvert_exporter": "python",
   "pygments_lexer": "ipython3",
   "version": "3.6.4"
  }
 },
 "nbformat": 4,
 "nbformat_minor": 2
}
